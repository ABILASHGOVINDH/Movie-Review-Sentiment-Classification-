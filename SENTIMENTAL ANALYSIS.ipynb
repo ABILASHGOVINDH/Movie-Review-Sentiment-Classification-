{
 "cells": [
  {
   "cell_type": "markdown",
   "id": "895a055d-627b-481d-8822-9cb5b3d567d3",
   "metadata": {},
   "source": [
    "# IMPORTATION"
   ]
  },
  {
   "cell_type": "code",
   "execution_count": 1,
   "id": "18c353a6-93b1-49c4-b82c-2c2fd0a8a32f",
   "metadata": {},
   "outputs": [],
   "source": [
    "import pandas as pd\n",
    "import matplotlib as plt\n",
    "import seaborn as sns\n",
    "import matplotlib.pyplot as plt\n",
    "import numpy as np\n",
    "from sklearn.model_selection import train_test_split\n",
    "from sklearn.linear_model import LinearRegression, LogisticRegression\n",
    "from sklearn.feature_extraction.text import TfidfVectorizer\n",
    "from sklearn.metrics import classification_report, accuracy_score, confusion_matrix, mean_squared_error,f1_score, precision_score, recall_score\n",
    "import torch \n",
    "from torch.utils.data import Dataset, DataLoader\n",
    "from transformers import AutoTokenizer, Trainer, TrainingArguments, BertForSequenceClassification,BertTokenizer\n",
    "import re\n",
    "import evaluate"
   ]
  },
  {
   "cell_type": "markdown",
   "id": "b97647fc-678b-4398-8f89-476a427eb3cd",
   "metadata": {},
   "source": [
    "# LOAD DATA"
   ]
  },
  {
   "cell_type": "code",
   "execution_count": 2,
   "id": "4890e995-e038-4c5f-a5f9-4dab23fa13f2",
   "metadata": {},
   "outputs": [],
   "source": [
    "data = pd.read_csv(r\"C:\\Users\\avina\\OneDrive\\Desktop\\Movie review prediction\\IMDB Dataset.csv\")"
   ]
  },
  {
   "cell_type": "markdown",
   "id": "d2a29d73-baa5-4170-98b2-9fc546e6b6b5",
   "metadata": {},
   "source": [
    "# DATA SHAPE "
   ]
  },
  {
   "cell_type": "code",
   "execution_count": 3,
   "id": "741df629-680f-4e1e-8bd5-0f3a6732fda5",
   "metadata": {},
   "outputs": [],
   "source": [
    "data = data.sample(n=2000, random_state=42).reset_index(drop=True)"
   ]
  },
  {
   "cell_type": "code",
   "execution_count": 4,
   "id": "baebc6cc-2e28-4a8a-92e9-a4ee70de4de5",
   "metadata": {},
   "outputs": [
    {
     "data": {
      "text/plain": [
       "(2000, 2)"
      ]
     },
     "execution_count": 4,
     "metadata": {},
     "output_type": "execute_result"
    }
   ],
   "source": [
    "data.shape"
   ]
  },
  {
   "cell_type": "code",
   "execution_count": 5,
   "id": "ef2072ba-001b-4bed-a5f9-810637fe05a2",
   "metadata": {},
   "outputs": [
    {
     "data": {
      "text/plain": [
       "Index(['review', 'sentiment'], dtype='object')"
      ]
     },
     "execution_count": 5,
     "metadata": {},
     "output_type": "execute_result"
    }
   ],
   "source": [
    "data.columns"
   ]
  },
  {
   "cell_type": "code",
   "execution_count": 6,
   "id": "2c8e9ab7-b56f-42ec-8cb5-6cac291d40f9",
   "metadata": {},
   "outputs": [
    {
     "data": {
      "text/plain": [
       "sentiment\n",
       "negative    1024\n",
       "positive     976\n",
       "Name: count, dtype: int64"
      ]
     },
     "execution_count": 6,
     "metadata": {},
     "output_type": "execute_result"
    }
   ],
   "source": [
    "data['sentiment'].value_counts()"
   ]
  },
  {
   "cell_type": "markdown",
   "id": "334a40fc-9986-451e-a05a-47bbcdf6750d",
   "metadata": {},
   "source": [
    "# CLEANING DATA"
   ]
  },
  {
   "cell_type": "code",
   "execution_count": 7,
   "id": "ae360795-6615-4e01-97ab-889961b41ca2",
   "metadata": {},
   "outputs": [],
   "source": [
    "data = data.dropna()"
   ]
  },
  {
   "cell_type": "code",
   "execution_count": 8,
   "id": "7e02b8f8-cdcc-4f4c-8f08-91bfa5e336e2",
   "metadata": {
    "scrolled": true
   },
   "outputs": [
    {
     "name": "stdout",
     "output_type": "stream",
     "text": [
      "                                              review\n",
      "0  I really liked this Summerslam due to the look...\n",
      "1  Not many television shows appeal to quite as m...\n",
      "2  The film quickly gets to a major chase scene w...\n",
      "3  Jane Austen would definitely approve of this o...\n",
      "4  Expectations were somewhat high for me when I ...\n"
     ]
    }
   ],
   "source": [
    "def data_clean(text):\n",
    "    text = re.sub(r'[^a-zA-Z0-9]', ' ', text)\n",
    "    text = re.sub(r'<.*?>', ' ', text)  \n",
    "    text = re.sub(r'\\bbr\\b', ' ', text, flags=re.IGNORECASE)\n",
    "    return re.sub(r'\\s+', ' ', text).strip()\n",
    "\n",
    "data['review'] = data['review'].apply(data_clean)\n",
    "\n",
    "print(data[['review']].head())\n"
   ]
  },
  {
   "cell_type": "markdown",
   "id": "7330bbdb-0b57-4144-b291-829b5923b94f",
   "metadata": {},
   "source": [
    "# LABELING THE SENTIMENT"
   ]
  },
  {
   "cell_type": "code",
   "execution_count": 9,
   "id": "9074c151-3af1-41dc-9169-00b728d17ae6",
   "metadata": {},
   "outputs": [],
   "source": [
    "label = {'positive':1, 'negative':0,}\n",
    "data['label'] = data['sentiment'].map(label)"
   ]
  },
  {
   "cell_type": "markdown",
   "id": "28dbe852-310e-490f-9fd8-0e66ed2d797f",
   "metadata": {},
   "source": [
    " ***LABLE X and Y***"
   ]
  },
  {
   "cell_type": "code",
   "execution_count": 10,
   "id": "c6d51db1-6a63-4f54-81ac-4a387b76a153",
   "metadata": {},
   "outputs": [],
   "source": [
    "X = data['review']\n",
    "Y = data['label']"
   ]
  },
  {
   "cell_type": "markdown",
   "id": "3cb5e2a5-fda0-4372-9bce-35a7435d508c",
   "metadata": {},
   "source": [
    "# Train Test split"
   ]
  },
  {
   "cell_type": "code",
   "execution_count": 11,
   "id": "2e43df73-2bba-4116-b11f-092e9223c65f",
   "metadata": {},
   "outputs": [],
   "source": [
    "X_train, X_test, Y_train, Y_test = train_test_split(X, Y, test_size=0.2, random_state=32,stratify=Y) "
   ]
  },
  {
   "cell_type": "markdown",
   "id": "13ea16f7-0fe9-45d5-85b9-7f4480d1ddc2",
   "metadata": {},
   "source": [
    "# TOKENIZATION"
   ]
  },
  {
   "cell_type": "code",
   "execution_count": 12,
   "id": "5238fbfc-a855-4db5-8114-921f49a10adf",
   "metadata": {},
   "outputs": [],
   "source": [
    "tokenizer = AutoTokenizer.from_pretrained(\"bert-base-uncased\")"
   ]
  },
  {
   "cell_type": "code",
   "execution_count": 13,
   "id": "84000887-9350-42d5-bf04-5862f2e51209",
   "metadata": {},
   "outputs": [],
   "source": [
    "class IMDBDataset(Dataset):\n",
    "    def __init__(self, texts, labels, tokenizer, max_len=120):\n",
    "        self.texts = list(texts)\n",
    "        self.labels = list(labels)\n",
    "        self.tokenizer = tokenizer\n",
    "        self.max_len = max_len\n",
    "\n",
    "    def __len__(self):\n",
    "        return len(self.texts)\n",
    "\n",
    "    def __getitem__(self, idx):\n",
    "        text = str(self.texts[idx])\n",
    "        label = self.labels[idx]\n",
    "    \n",
    "        if pd.isna(label):\n",
    "            label = 0 \n",
    "    \n",
    "        label = int(label)\n",
    "        encoding = self.tokenizer(\n",
    "            text,\n",
    "            truncation=True,\n",
    "            padding=\"max_length\",\n",
    "            max_length=self.max_len,\n",
    "            return_tensors=\"pt\"\n",
    "        )\n",
    "    \n",
    "        return {\n",
    "            \"input_ids\": encoding[\"input_ids\"].squeeze(0),\n",
    "            \"attention_mask\": encoding[\"attention_mask\"].squeeze(0),\n",
    "            \"labels\": torch.tensor(label, dtype=torch.long)\n",
    "        }\n"
   ]
  },
  {
   "cell_type": "code",
   "execution_count": 14,
   "id": "f52215dc-0cde-4655-a4f8-de3557b0eb89",
   "metadata": {},
   "outputs": [],
   "source": [
    "train_dataset = IMDBDataset(X_train, Y_train, tokenizer)\n",
    "test_dataset = IMDBDataset(X_test, Y_test, tokenizer)"
   ]
  },
  {
   "cell_type": "code",
   "execution_count": 15,
   "id": "ab8636ef-56d2-4666-8c34-be3c5da0f3d4",
   "metadata": {},
   "outputs": [],
   "source": [
    "\n",
    "train_loader = DataLoader(train_dataset, batch_size=16, shuffle=True)\n",
    "test_loader = DataLoader(test_dataset, batch_size=16)"
   ]
  },
  {
   "cell_type": "code",
   "execution_count": 16,
   "id": "f2e2a1c6-9a72-45bf-a709-9e299d518209",
   "metadata": {},
   "outputs": [
    {
     "name": "stderr",
     "output_type": "stream",
     "text": [
      "Some weights of BertForSequenceClassification were not initialized from the model checkpoint at bert-base-uncased and are newly initialized: ['classifier.bias', 'classifier.weight']\n",
      "You should probably TRAIN this model on a down-stream task to be able to use it for predictions and inference.\n"
     ]
    }
   ],
   "source": [
    "model = BertForSequenceClassification.from_pretrained('bert-base-uncased', num_labels=2)"
   ]
  },
  {
   "cell_type": "markdown",
   "id": "f8623b2e-9b9f-4c1c-b31a-d74b4eeedc3d",
   "metadata": {},
   "source": [
    " - # Funtion for metric Prediction (accuracy, f1-score, confusion matrix)"
   ]
  },
  {
   "cell_type": "code",
   "execution_count": 17,
   "id": "dafc950c-0321-4085-ac5a-dfd5bf54d669",
   "metadata": {},
   "outputs": [],
   "source": [
    "def compute_metrics(eval_pred):\n",
    "    logits, labels = eval_pred\n",
    "    predictions = torch.argmax(torch.tensor(logits), dim=-1)\n",
    "    acc = accuracy_score(labels, predictions)\n",
    "    f1 = f1_score(labels, predictions, average='weighted')\n",
    "    cm = confusion_matrix(labels, predictions)\n",
    "    print(\"Confusion Matrix:\\n\", cm)\n",
    "    return {'accuracy': acc, 'f1': f1}"
   ]
  },
  {
   "cell_type": "code",
   "execution_count": 18,
   "id": "17dec360-bbac-4111-ac63-51bf6effd2bb",
   "metadata": {},
   "outputs": [],
   "source": [
    "training_args = TrainingArguments(\n",
    "    output_dir='./results',\n",
    "    num_train_epochs=3,\n",
    "    per_device_train_batch_size=8,\n",
    "    per_device_eval_batch_size=8,\n",
    "    eval_strategy=\"epoch\",  \n",
    "    save_strategy=\"epoch\",\n",
    "    logging_dir='./logs',\n",
    "    logging_steps=10,\n",
    "    load_best_model_at_end=True,\n",
    "    metric_for_best_model=\"accuracy\"\n",
    ")"
   ]
  },
  {
   "cell_type": "code",
   "execution_count": 19,
   "id": "9f6e7dfc-1c9f-46f4-8529-db87e3c6a4f8",
   "metadata": {},
   "outputs": [
    {
     "name": "stderr",
     "output_type": "stream",
     "text": [
      "C:\\Users\\avina\\AppData\\Local\\Temp\\ipykernel_21108\\407658018.py:1: FutureWarning: `tokenizer` is deprecated and will be removed in version 5.0.0 for `Trainer.__init__`. Use `processing_class` instead.\n",
      "  trainer = Trainer(\n"
     ]
    }
   ],
   "source": [
    "trainer = Trainer(\n",
    "    model=model,\n",
    "    args=training_args,\n",
    "    train_dataset=train_dataset,\n",
    "    eval_dataset=test_dataset,\n",
    "    compute_metrics=compute_metrics,\n",
    "    tokenizer=tokenizer,\n",
    ")"
   ]
  },
  {
   "cell_type": "code",
   "execution_count": 20,
   "id": "938c456f-01f9-4cd4-9652-6fbe39aac8ed",
   "metadata": {
    "scrolled": true
   },
   "outputs": [
    {
     "name": "stderr",
     "output_type": "stream",
     "text": [
      "C:\\Users\\avina\\anaconda\\Lib\\site-packages\\torch\\utils\\data\\dataloader.py:666: UserWarning: 'pin_memory' argument is set as true but no accelerator is found, then device pinned memory won't be used.\n",
      "  warnings.warn(warn_msg)\n"
     ]
    },
    {
     "data": {
      "text/html": [
       "\n",
       "    <div>\n",
       "      \n",
       "      <progress value='600' max='600' style='width:300px; height:20px; vertical-align: middle;'></progress>\n",
       "      [600/600 1:31:13, Epoch 3/3]\n",
       "    </div>\n",
       "    <table border=\"1\" class=\"dataframe\">\n",
       "  <thead>\n",
       " <tr style=\"text-align: left;\">\n",
       "      <th>Epoch</th>\n",
       "      <th>Training Loss</th>\n",
       "      <th>Validation Loss</th>\n",
       "      <th>Accuracy</th>\n",
       "      <th>F1</th>\n",
       "    </tr>\n",
       "  </thead>\n",
       "  <tbody>\n",
       "    <tr>\n",
       "      <td>1</td>\n",
       "      <td>0.508000</td>\n",
       "      <td>0.341445</td>\n",
       "      <td>0.862500</td>\n",
       "      <td>0.862491</td>\n",
       "    </tr>\n",
       "    <tr>\n",
       "      <td>2</td>\n",
       "      <td>0.455700</td>\n",
       "      <td>0.521024</td>\n",
       "      <td>0.862500</td>\n",
       "      <td>0.861937</td>\n",
       "    </tr>\n",
       "    <tr>\n",
       "      <td>3</td>\n",
       "      <td>0.146400</td>\n",
       "      <td>0.762350</td>\n",
       "      <td>0.837500</td>\n",
       "      <td>0.837460</td>\n",
       "    </tr>\n",
       "  </tbody>\n",
       "</table><p>"
      ],
      "text/plain": [
       "<IPython.core.display.HTML object>"
      ]
     },
     "metadata": {},
     "output_type": "display_data"
    },
    {
     "name": "stdout",
     "output_type": "stream",
     "text": [
      "Confusion Matrix:\n",
      " [[178  27]\n",
      " [ 28 167]]\n"
     ]
    },
    {
     "name": "stderr",
     "output_type": "stream",
     "text": [
      "C:\\Users\\avina\\anaconda\\Lib\\site-packages\\torch\\utils\\data\\dataloader.py:666: UserWarning: 'pin_memory' argument is set as true but no accelerator is found, then device pinned memory won't be used.\n",
      "  warnings.warn(warn_msg)\n"
     ]
    },
    {
     "name": "stdout",
     "output_type": "stream",
     "text": [
      "Confusion Matrix:\n",
      " [[188  17]\n",
      " [ 38 157]]\n"
     ]
    },
    {
     "name": "stderr",
     "output_type": "stream",
     "text": [
      "C:\\Users\\avina\\anaconda\\Lib\\site-packages\\torch\\utils\\data\\dataloader.py:666: UserWarning: 'pin_memory' argument is set as true but no accelerator is found, then device pinned memory won't be used.\n",
      "  warnings.warn(warn_msg)\n"
     ]
    },
    {
     "name": "stdout",
     "output_type": "stream",
     "text": [
      "Confusion Matrix:\n",
      " [[166  39]\n",
      " [ 26 169]]\n"
     ]
    },
    {
     "data": {
      "text/plain": [
       "TrainOutput(global_step=600, training_loss=0.3172720704724391, metrics={'train_runtime': 5487.0134, 'train_samples_per_second': 0.875, 'train_steps_per_second': 0.109, 'total_flos': 295999937280000.0, 'train_loss': 0.3172720704724391, 'epoch': 3.0})"
      ]
     },
     "execution_count": 20,
     "metadata": {},
     "output_type": "execute_result"
    }
   ],
   "source": [
    "trainer.train()"
   ]
  },
  {
   "cell_type": "markdown",
   "id": "67bfe469-ad5a-4e85-a2b0-bdf1dc3a1779",
   "metadata": {},
   "source": [
    "# Train Evaluate"
   ]
  },
  {
   "cell_type": "code",
   "execution_count": 21,
   "id": "8868b504-9695-4235-9174-5c5bae35b733",
   "metadata": {},
   "outputs": [
    {
     "name": "stderr",
     "output_type": "stream",
     "text": [
      "C:\\Users\\avina\\anaconda\\Lib\\site-packages\\torch\\utils\\data\\dataloader.py:666: UserWarning: 'pin_memory' argument is set as true but no accelerator is found, then device pinned memory won't be used.\n",
      "  warnings.warn(warn_msg)\n"
     ]
    },
    {
     "data": {
      "text/html": [
       "\n",
       "    <div>\n",
       "      \n",
       "      <progress value='50' max='50' style='width:300px; height:20px; vertical-align: middle;'></progress>\n",
       "      [50/50 01:08]\n",
       "    </div>\n",
       "    "
      ],
      "text/plain": [
       "<IPython.core.display.HTML object>"
      ]
     },
     "metadata": {},
     "output_type": "display_data"
    },
    {
     "name": "stdout",
     "output_type": "stream",
     "text": [
      "Confusion Matrix:\n",
      " [[178  27]\n",
      " [ 28 167]]\n",
      "Transformer Model Performance: {'eval_loss': 0.3414453864097595, 'eval_accuracy': 0.8625, 'eval_f1': 0.8624905397206638, 'eval_runtime': 69.7457, 'eval_samples_per_second': 5.735, 'eval_steps_per_second': 0.717, 'epoch': 3.0}\n"
     ]
    }
   ],
   "source": [
    "\n",
    "results = trainer.evaluate()\n",
    "\n",
    "print(\"Transformer Model Performance:\", results)"
   ]
  },
  {
   "cell_type": "markdown",
   "id": "56e397da-5892-4848-836f-17d10e556766",
   "metadata": {},
   "source": [
    "# logistic regression on TF-IDF features"
   ]
  },
  {
   "cell_type": "code",
   "execution_count": 32,
   "id": "0a31e600-1a24-4a7d-9b52-19a84595baea",
   "metadata": {},
   "outputs": [],
   "source": [
    "X = data['review']\n",
    "y = data['sentiment']"
   ]
  },
  {
   "cell_type": "code",
   "execution_count": 33,
   "id": "518e025c-47a3-4782-87e0-b2e424596eee",
   "metadata": {},
   "outputs": [],
   "source": [
    "X_train, X_test, y_train, y_test = train_test_split(X, y, test_size=0.2, random_state=42)"
   ]
  },
  {
   "cell_type": "code",
   "execution_count": 36,
   "id": "d5e38936-c9d8-49a8-94ff-207876484926",
   "metadata": {},
   "outputs": [],
   "source": [
    "\n",
    "Tfidf = TfidfVectorizer()\n",
    "X_train_tfidf = Tfidf.fit_transform(X_train)\n",
    "X_test_tfidf = Tfidf.fit_transform(X_train)\n",
    "X_test_tfidf = \n",
    "\n",
    "base_model = LogisticRegression()\n",
    "base_model.fit(X_train_tfidf,Y_train)\n",
    "\n",
    "y_base_model  = base_model.predict(X_test_tfidf)\n"
   ]
  },
  {
   "cell_type": "markdown",
   "id": "00fad532-758f-4732-b36d-ea6928b05d98",
   "metadata": {},
   "source": [
    "- # CLASSIFICATION REPORT"
   ]
  },
  {
   "cell_type": "code",
   "execution_count": 63,
   "id": "a672dc91-c915-4f06-8df2-331f3e96bfac",
   "metadata": {},
   "outputs": [
    {
     "name": "stdout",
     "output_type": "stream",
     "text": [
      "              precision    recall  f1-score   support\n",
      "\n",
      "    negative       0.67      0.90      0.77        50\n",
      "    positive       0.85      0.56      0.67        50\n",
      "\n",
      "    accuracy                           0.73       100\n",
      "   macro avg       0.76      0.73      0.72       100\n",
      "weighted avg       0.76      0.73      0.72       100\n",
      "\n"
     ]
    }
   ],
   "source": [
    "print(classification_report(Y_test, y_base_model))\n",
    "cm_baseline = confusion_matrix(Y_test, y_base_model)"
   ]
  },
  {
   "cell_type": "markdown",
   "id": "bd6b23c8-866a-4872-820e-5940d5fcd3eb",
   "metadata": {},
   "source": [
    "# Actual vs Predicted"
   ]
  },
  {
   "cell_type": "code",
   "execution_count": 66,
   "id": "4d5f9d61-55df-44e2-8442-8af4d332cecd",
   "metadata": {},
   "outputs": [
    {
     "data": {
      "image/png": "[encoded data removed]",
      "text/plain": [
       "<Figure size 640x480 with 2 Axes>"
      ]
     },
     "metadata": {},
     "output_type": "display_data"
    }
   ],
   "source": [
    "sns.heatmap(cm_baseline, annot=True, fmt=\"d\", cmap=\"Reds\")\n",
    "plt.xlabel(\"Predicted\")\n",
    "plt.ylabel(\"Actual\")\n",
    "plt.show()"
   ]
  },
  {
   "cell_type": "markdown",
   "id": "f7f2742d-7996-4a06-a8c5-85625ae8a843",
   "metadata": {},
   "source": [
    "# Saving the Fine tunned model "
   ]
  },
  {
   "cell_type": "code",
   "execution_count": 22,
   "id": "17a6793a-d073-42ae-afde-bfcd66a0f617",
   "metadata": {},
   "outputs": [
    {
     "name": "stdout",
     "output_type": "stream",
     "text": [
      "Model and tokenizer saved to ./sentiment_model\n"
     ]
    },
    {
     "data": {
      "text/plain": [
       "BertForSequenceClassification(\n",
       "  (bert): BertModel(\n",
       "    (embeddings): BertEmbeddings(\n",
       "      (word_embeddings): Embedding(30522, 768, padding_idx=0)\n",
       "      (position_embeddings): Embedding(512, 768)\n",
       "      (token_type_embeddings): Embedding(2, 768)\n",
       "      (LayerNorm): LayerNorm((768,), eps=1e-12, elementwise_affine=True)\n",
       "      (dropout): Dropout(p=0.1, inplace=False)\n",
       "    )\n",
       "    (encoder): BertEncoder(\n",
       "      (layer): ModuleList(\n",
       "        (0-11): 12 x BertLayer(\n",
       "          (attention): BertAttention(\n",
       "            (self): BertSdpaSelfAttention(\n",
       "              (query): Linear(in_features=768, out_features=768, bias=True)\n",
       "              (key): Linear(in_features=768, out_features=768, bias=True)\n",
       "              (value): Linear(in_features=768, out_features=768, bias=True)\n",
       "              (dropout): Dropout(p=0.1, inplace=False)\n",
       "            )\n",
       "            (output): BertSelfOutput(\n",
       "              (dense): Linear(in_features=768, out_features=768, bias=True)\n",
       "              (LayerNorm): LayerNorm((768,), eps=1e-12, elementwise_affine=True)\n",
       "              (dropout): Dropout(p=0.1, inplace=False)\n",
       "            )\n",
       "          )\n",
       "          (intermediate): BertIntermediate(\n",
       "            (dense): Linear(in_features=768, out_features=3072, bias=True)\n",
       "            (intermediate_act_fn): GELUActivation()\n",
       "          )\n",
       "          (output): BertOutput(\n",
       "            (dense): Linear(in_features=3072, out_features=768, bias=True)\n",
       "            (LayerNorm): LayerNorm((768,), eps=1e-12, elementwise_affine=True)\n",
       "            (dropout): Dropout(p=0.1, inplace=False)\n",
       "          )\n",
       "        )\n",
       "      )\n",
       "    )\n",
       "    (pooler): BertPooler(\n",
       "      (dense): Linear(in_features=768, out_features=768, bias=True)\n",
       "      (activation): Tanh()\n",
       "    )\n",
       "  )\n",
       "  (dropout): Dropout(p=0.1, inplace=False)\n",
       "  (classifier): Linear(in_features=768, out_features=2, bias=True)\n",
       ")"
      ]
     },
     "execution_count": 22,
     "metadata": {},
     "output_type": "execute_result"
    }
   ],
   "source": [
    "model_path = \"./sentiment_model\"\n",
    "model.save_pretrained(model_path)\n",
    "tokenizer.save_pretrained(model_path)\n",
    "print(f\"Model and tokenizer saved to {model_path}\")\n",
    "\n",
    "\n",
    "loaded_tokenizer = BertTokenizer.from_pretrained(model_path)\n",
    "loaded_model = BertForSequenceClassification.from_pretrained(model_path)\n",
    "loaded_model.eval()"
   ]
  },
  {
   "cell_type": "markdown",
   "id": "fb937d98-66bd-4267-9cae-f03a4a151980",
   "metadata": {},
   "source": [
    "# predicting the sentiment"
   ]
  },
  {
   "cell_type": "code",
   "execution_count": null,
   "id": "16c0dd02-798f-4c95-9b58-7acd181e6e16",
   "metadata": {},
   "outputs": [
    {
     "name": "stdin",
     "output_type": "stream",
     "text": [
      "Enter a movie review (or 'quit' to exit):  the movie was worst\n"
     ]
    },
    {
     "name": "stdout",
     "output_type": "stream",
     "text": [
      "Prediction probabilities: Negative 0.92, Positive 0.08\n",
      "Sentiment: Negative\n"
     ]
    },
    {
     "name": "stdin",
     "output_type": "stream",
     "text": [
      "Enter a movie review (or 'quit' to exit):  the movie was good\n"
     ]
    },
    {
     "name": "stdout",
     "output_type": "stream",
     "text": [
      "Prediction probabilities: Negative 0.29, Positive 0.71\n",
      "Sentiment: Positive\n"
     ]
    },
    {
     "name": "stdin",
     "output_type": "stream",
     "text": [
      "Enter a movie review (or 'quit' to exit):  i like  the movie\n"
     ]
    },
    {
     "name": "stdout",
     "output_type": "stream",
     "text": [
      "Prediction probabilities: Negative 0.37, Positive 0.63\n",
      "Sentiment: Positive\n"
     ]
    },
    {
     "name": "stdin",
     "output_type": "stream",
     "text": [
      "Enter a movie review (or 'quit' to exit):  content of the movie is good\n"
     ]
    },
    {
     "name": "stdout",
     "output_type": "stream",
     "text": [
      "Prediction probabilities: Negative 0.16, Positive 0.84\n",
      "Sentiment: Positive\n"
     ]
    }
   ],
   "source": [
    "def predict_sentiment(text):\n",
    "    inputs = loaded_tokenizer(text, return_tensors=\"pt\", truncation=True, padding=True, max_length=128)\n",
    "    with torch.no_grad():\n",
    "        outputs = loaded_model(**inputs)\n",
    "    \n",
    "    probs = torch.softmax(outputs.logits, dim=1)\n",
    "    print(f\"Prediction probabilities: Negative {probs[0][0]:.2f}, Positive {probs[0][1]:.2f}\") \n",
    "    \n",
    "    pred_label = torch.argmax(probs, dim=1).item()\n",
    "    sentiment = \"Positive\" if pred_label == 1 else \"Negative\"\n",
    "    return sentiment\n",
    "\n",
    "\n",
    "while True:\n",
    "    review = input(\"Enter a movie review (or 'quit' to exit): \")\n",
    "    if review.lower() == \"quit\":\n",
    "        break\n",
    "    result = predict_sentiment(review)\n",
    "    print(f\"Sentiment: {result}\")\n"
   ]
  },
  {
   "cell_type": "code",
   "execution_count": null,
   "id": "7f5999ba-464f-4f71-b718-f1b78532aa0c",
   "metadata": {},
   "outputs": [],
   "source": []
  }
 ],
 "metadata": {
  "kernelspec": {
   "display_name": "Python 3 (ipykernel)",
   "language": "python",
   "name": "python3"
  },
  "language_info": {
   "codemirror_mode": {
    "name": "ipython",
    "version": 3
   },
   "file_extension": ".py",
   "mimetype": "text/x-python",
   "name": "python",
   "nbconvert_exporter": "python",
   "pygments_lexer": "ipython3",
   "version": "3.12.7"
  }
 },
 "nbformat": 4,
 "nbformat_minor": 5
}
